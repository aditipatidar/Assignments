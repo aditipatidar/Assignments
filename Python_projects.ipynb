{
  "nbformat": 4,
  "nbformat_minor": 0,
  "metadata": {
    "colab": {
      "provenance": [],
      "authorship_tag": "ABX9TyOdYep52j7DOM/e+Gt1peUb",
      "include_colab_link": true
    },
    "kernelspec": {
      "name": "python3",
      "display_name": "Python 3"
    },
    "language_info": {
      "name": "python"
    }
  },
  "cells": [
    {
      "cell_type": "markdown",
      "metadata": {
        "id": "view-in-github",
        "colab_type": "text"
      },
      "source": [
        "<a href=\"https://colab.research.google.com/github/aditipatidar/Assignments/blob/main/Python_projects.ipynb\" target=\"_parent\"><img src=\"https://colab.research.google.com/assets/colab-badge.svg\" alt=\"Open In Colab\"/></a>"
      ]
    },
    {
      "cell_type": "markdown",
      "source": [
        "# Ist Madlibs Project "
      ],
      "metadata": {
        "id": "IINWA1kzn_hX"
      }
    },
    {
      "cell_type": "code",
      "execution_count": 4,
      "metadata": {
        "colab": {
          "base_uri": "https://localhost:8080/"
        },
        "id": "5V6EkpyDKxOU",
        "outputId": "8a44e011-3dec-47ff-811b-c3cb757974c8"
      },
      "outputs": [
        {
          "output_type": "stream",
          "name": "stdout",
          "text": [
            "My name is  Aditi\n",
            "My name is  Aditi\n",
            "my name is  Aditi\n"
          ]
        }
      ],
      "source": [
        "Firstname = \" Aditi\"\n",
        "print(\"My name is \" + Firstname)\n",
        "print(\"My name is {}\".format(Firstname))\n",
        "print(f\"my name is {Firstname}\")"
      ]
    },
    {
      "cell_type": "code",
      "source": [
        "Projectname = \"Madlibs\"\n",
        "player1 = '\"Aditi\"'\n",
        "player2 = '\"Chitranshu\"'\n",
        "word = \"multi-player\"\n",
        "\n",
        "whatIamLearning = f\"{Projectname} is a game of words where one player {player1} asks other player {player2} to substitute the blanks in a sentence with a word. It's a {word} game.\"\n",
        "print(whatIamLearning)"
      ],
      "metadata": {
        "colab": {
          "base_uri": "https://localhost:8080/"
        },
        "id": "Zc64KLYKoN4b",
        "outputId": "9cb1cff1-3c32-4984-ec2b-0e6b42d24162"
      },
      "execution_count": 15,
      "outputs": [
        {
          "output_type": "stream",
          "name": "stdout",
          "text": [
            "Madlibs is a game of words where one player \"Aditi\" asks other player \"Chitranshu\" to substitute the blanks in a sentence with a word. It's a multi-player game.\n"
          ]
        }
      ]
    },
    {
      "cell_type": "code",
      "source": [
        "\n"
      ],
      "metadata": {
        "id": "9Mjnu_GPrXWQ"
      },
      "execution_count": 16,
      "outputs": []
    },
    {
      "cell_type": "code",
      "source": [],
      "metadata": {
        "id": "tFyPLbdZrYYv"
      },
      "execution_count": null,
      "outputs": []
    }
  ]
}